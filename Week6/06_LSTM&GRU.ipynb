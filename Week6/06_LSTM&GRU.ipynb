{
  "cells": [
    {
      "cell_type": "markdown",
      "metadata": {
        "id": "DdYrQcac2yv-"
      },
      "source": [
        "<img src=\"https://raw.githubusercontent.com/alan-barzilay/NLPortugues/master/imagens/logo_nlportugues.png\"   width=\"150\" align=\"right\">\n",
        "\n",
        "\n",
        "# Lista 6 - LSTM & GRU"
      ]
    },
    {
      "cell_type": "markdown",
      "metadata": {
        "id": "PEVYujH57chy"
      },
      "source": [
        "\n",
        "______________\n"
      ]
    },
    {
      "cell_type": "markdown",
      "metadata": {
        "id": "nCCgVIO72ywB"
      },
      "source": [
        "\n",
        "O objetivo desta lista é fazer com que vocês treinem um modelo de análise de sentimentos utilizando GRU's e LSTM's. Essa lista é semelhante a lista 03 onde aprendemos a usar embeddings e onde você ja recebeu a arquitetura do seu modelo quase pronta. A diferença é que desta vez você ira construir sozinho sua rede e utilizará as camadas que acabamos de aprender: LSTM e GRU."
      ]
    },
    {
      "cell_type": "code",
      "execution_count": 1,
      "metadata": {
        "id": "rsAUbJmf2ywB"
      },
      "outputs": [],
      "source": [
        "import tensorflow as tf\n",
        "from tensorflow import keras\n",
        "import numpy as np\n",
        "import pandas as pd\n",
        "import matplotlib.pyplot as plt\n",
        "from sklearn.model_selection import train_test_split"
      ]
    },
    {
      "cell_type": "code",
      "execution_count": 2,
      "metadata": {
        "colab": {
          "base_uri": "https://localhost:8080/",
          "height": 36
        },
        "id": "2aYJaVXW2ywD",
        "outputId": "3c874c20-7552-46ad-9de4-b9401aa30e6c"
      },
      "outputs": [
        {
          "data": {
            "text/plain": [
              "'2.13.0'"
            ]
          },
          "execution_count": 2,
          "metadata": {},
          "output_type": "execute_result"
        }
      ],
      "source": [
        "tf.__version__"
      ]
    },
    {
      "cell_type": "markdown",
      "metadata": {
        "id": "Ug68fqVx2ywE"
      },
      "source": [
        "## Importando os dados como um dataframe\n",
        "\n",
        "Para esta lista nós utilizaremos um recorte do dataset **B2W-Reviews01** que consiste em avaliações de mais de 130k compras online no site Americanas.com e [esta disponivel no github](https://github.com/b2wdigital/b2w-reviews01) sob a licensa CC BY-NC-SA 4.01."
      ]
    },
    {
      "cell_type": "code",
      "execution_count": null,
      "metadata": {
        "id": "QBYTj_LY8PaJ"
      },
      "outputs": [],
      "source": [
        "# !mkdir data"
      ]
    },
    {
      "cell_type": "code",
      "execution_count": null,
      "metadata": {
        "id": "kUtnF_vB8P8T"
      },
      "outputs": [],
      "source": [
        "# !curl https://raw.githubusercontent.com/alan-barzilay/NLPortugues/master/Semana%2003/data/b2w-10k.csv --output 'data/b2w-10k.csv'"
      ]
    },
    {
      "cell_type": "code",
      "execution_count": null,
      "metadata": {},
      "outputs": [],
      "source": [
        "import requests\n",
        "\n",
        "url = 'https://raw.githubusercontent.com/alan-barzilay/NLPortugues/master/Semana%2003/data/b2w-10k.csv'\n",
        "r = requests.get(url)\n",
        "\n",
        "with open('data/b2w-10k.csv', 'wb') as f:\n",
        "    f.write(r.content)"
      ]
    },
    {
      "cell_type": "code",
      "execution_count": 26,
      "metadata": {
        "id": "nwEAVF_x2ywF",
        "outputId": "6590cab7-6af4-4f7a-b85d-7785b9bb3bd4",
        "scrolled": true
      },
      "outputs": [
        {
          "data": {
            "text/plain": [
              "Index(['submission_date', 'reviewer_id', 'product_id', 'product_name',\n",
              "       'product_brand', 'site_category_lv1', 'site_category_lv2',\n",
              "       'review_title', 'overall_rating', 'recommend_to_a_friend',\n",
              "       'review_text', 'reviewer_birth_year', 'reviewer_gender',\n",
              "       'reviewer_state', 'Unnamed: 14', 'Unnamed: 15', 'Unnamed: 16',\n",
              "       'Unnamed: 17', 'Unnamed: 18'],\n",
              "      dtype='object')"
            ]
          },
          "execution_count": 26,
          "metadata": {},
          "output_type": "execute_result"
        }
      ],
      "source": [
        "# b2wCorpus = pd.read_csv(\"data/b2w-Reviews01.csv\") # dataset completo\n",
        "b2wCorpus = pd.read_csv(\"data/b2w-10k.csv\") # dataset amostra\n",
        "b2wCorpus.columns"
      ]
    },
    {
      "cell_type": "code",
      "execution_count": 4,
      "metadata": {},
      "outputs": [],
      "source": [
        "df = b2wCorpus[['review_text', 'overall_rating']].copy()"
      ]
    },
    {
      "cell_type": "markdown",
      "metadata": {},
      "source": [
        "# Entrega da Semana"
      ]
    },
    {
      "cell_type": "code",
      "execution_count": 34,
      "metadata": {},
      "outputs": [],
      "source": [
        "def pipeline(path_file_input, path_file_output, prop_treino = 0.75, prop_teste=0.25):\n",
        "    \n",
        "    dados = pd.read_csv(path_file_input)\n",
        "    dados_filtro = dados.loc[dados['overall_rating'].isin(list(range(6)))].copy()\n",
        "\n",
        "    X = dados_filtro['review_text']\n",
        "    y = dados_filtro['overall_rating']\n",
        "    \n",
        "    X_treino, X_teste, y_treino, y_teste = train_test_split(X, y, test_size=prop_teste, random_state=42)\n",
        "    \n",
        "    dados_treino = pd.DataFrame({'review_text': X_treino, 'overall_rating': y_treino})\n",
        "    dados_teste = pd.DataFrame({'review_text': X_teste, 'overall_rating': y_teste})\n",
        "    \n",
        "    dados_treino.to_csv(f'{path_file_output}/treino.csv', index=False)\n",
        "    dados_teste.to_csv(f'{path_file_output}/teste.csv', index=False)\n",
        "    \n",
        "    # Aqui você pode adicionar a parte de codificação com Word2Vec ou outro método\n",
        "    \n",
        "    return dados_treino, dados_teste\n"
      ]
    },
    {
      "cell_type": "code",
      "execution_count": 35,
      "metadata": {},
      "outputs": [
        {
          "data": {
            "text/plain": [
              "[4, 5, 1, 2, 3]"
            ]
          },
          "execution_count": 35,
          "metadata": {},
          "output_type": "execute_result"
        }
      ],
      "source": [
        "df['overall_rating'].unique().tolist()"
      ]
    },
    {
      "cell_type": "code",
      "execution_count": 36,
      "metadata": {},
      "outputs": [],
      "source": [
        "df = df[~df['review_text'].isna()]"
      ]
    },
    {
      "cell_type": "code",
      "execution_count": 37,
      "metadata": {},
      "outputs": [
        {
          "data": {
            "text/plain": [
              "0         False\n",
              "1         False\n",
              "2         False\n",
              "3         False\n",
              "4         False\n",
              "          ...  \n",
              "132368    False\n",
              "132369    False\n",
              "132370    False\n",
              "132371    False\n",
              "132372    False\n",
              "Name: review_text, Length: 129098, dtype: bool"
            ]
          },
          "execution_count": 37,
          "metadata": {},
          "output_type": "execute_result"
        }
      ],
      "source": [
        "df['review_text'].isna()"
      ]
    },
    {
      "cell_type": "code",
      "execution_count": 38,
      "metadata": {},
      "outputs": [
        {
          "data": {
            "text/html": [
              "<div>\n",
              "<style scoped>\n",
              "    .dataframe tbody tr th:only-of-type {\n",
              "        vertical-align: middle;\n",
              "    }\n",
              "\n",
              "    .dataframe tbody tr th {\n",
              "        vertical-align: top;\n",
              "    }\n",
              "\n",
              "    .dataframe thead th {\n",
              "        text-align: right;\n",
              "    }\n",
              "</style>\n",
              "<table border=\"1\" class=\"dataframe\">\n",
              "  <thead>\n",
              "    <tr style=\"text-align: right;\">\n",
              "      <th></th>\n",
              "      <th>review_text</th>\n",
              "      <th>overall_rating</th>\n",
              "    </tr>\n",
              "  </thead>\n",
              "  <tbody>\n",
              "    <tr>\n",
              "      <th>0</th>\n",
              "      <td>Estou contente com a compra entrega rápida o ú...</td>\n",
              "      <td>4</td>\n",
              "    </tr>\n",
              "    <tr>\n",
              "      <th>1</th>\n",
              "      <td>Por apenas R$1994.20,eu consegui comprar esse ...</td>\n",
              "      <td>4</td>\n",
              "    </tr>\n",
              "    <tr>\n",
              "      <th>2</th>\n",
              "      <td>SUPERA EM AGILIDADE E PRATICIDADE OUTRAS PANEL...</td>\n",
              "      <td>4</td>\n",
              "    </tr>\n",
              "    <tr>\n",
              "      <th>3</th>\n",
              "      <td>MEU FILHO AMOU! PARECE DE VERDADE COM TANTOS D...</td>\n",
              "      <td>4</td>\n",
              "    </tr>\n",
              "    <tr>\n",
              "      <th>4</th>\n",
              "      <td>A entrega foi no prazo, as americanas estão de...</td>\n",
              "      <td>5</td>\n",
              "    </tr>\n",
              "  </tbody>\n",
              "</table>\n",
              "</div>"
            ],
            "text/plain": [
              "                                         review_text  overall_rating\n",
              "0  Estou contente com a compra entrega rápida o ú...               4\n",
              "1  Por apenas R$1994.20,eu consegui comprar esse ...               4\n",
              "2  SUPERA EM AGILIDADE E PRATICIDADE OUTRAS PANEL...               4\n",
              "3  MEU FILHO AMOU! PARECE DE VERDADE COM TANTOS D...               4\n",
              "4  A entrega foi no prazo, as americanas estão de...               5"
            ]
          },
          "execution_count": 38,
          "metadata": {},
          "output_type": "execute_result"
        }
      ],
      "source": [
        "df.head()"
      ]
    },
    {
      "cell_type": "code",
      "execution_count": 39,
      "metadata": {},
      "outputs": [],
      "source": [
        "import pandas as pd\n",
        "from sklearn.model_selection import train_test_split\n",
        "from gensim.models import Word2Vec\n",
        "import os\n",
        "\n",
        "# Filtro de dados\n",
        "def filtro(dados):\n",
        "    return dados.loc[(dados['overall_rating'].isin(list(range(6)))) & (~dados['review_text'].isna())].copy()\n",
        "\n",
        "# Partilha de dados\n",
        "def partilha(path_file_input, path_file_output, prop_treino=0.75, prop_teste=0.25):\n",
        "    dados = pd.read_csv(path_file_input)\n",
        "    dados_filtrados = filtro(dados)\n",
        "\n",
        "    X = dados_filtrados['review_text']\n",
        "    y = dados_filtrados['overall_rating']\n",
        "\n",
        "    X_treino, X_teste, y_treino, y_teste = train_test_split(X, y, test_size=prop_teste, random_state=42)\n",
        "\n",
        "    dados_treino = pd.DataFrame({'review_text': X_treino, 'overall_rating': y_treino})\n",
        "    dados_teste = pd.DataFrame({'review_text': X_teste, 'overall_rating': y_teste})\n",
        "\n",
        "    os.makedirs(path_file_output, exist_ok=True)\n",
        "    dados_treino.to_csv(f'{path_file_output}/treino.csv', index=False)\n",
        "    dados_teste.to_csv(f'{path_file_output}/teste.csv', index=False)\n",
        "\n",
        "    return dados_treino, dados_teste\n",
        "\n",
        "# Codificação de palavras\n",
        "def codifica(texto, d=100):\n",
        "    sentences = [review.split() for review in texto]\n",
        "    model_w2v = Word2Vec(sentences, vector_size=d, window=5, min_count=1, workers=4)\n",
        "    return model_w2v\n",
        "\n",
        "# Exemplo de uso\n",
        "path_file_input = \"data/b2w-10k.csv\"\n",
        "path_file_output = 'data/output'\n",
        "prop_treino = 0.75\n",
        "prop_teste = 0.25\n",
        "d = 100\n",
        "\n",
        "dados_treino, dados_teste = partilha(path_file_input, path_file_output, prop_treino, prop_teste)\n",
        "model_w2v = codifica(dados_treino['review_text'], d)\n"
      ]
    },
    {
      "cell_type": "code",
      "execution_count": 40,
      "metadata": {},
      "outputs": [],
      "source": [
        "import numpy as np\n",
        "from tensorflow.keras.preprocessing.sequence import pad_sequences\n",
        "\n",
        "def truncar_texto(texto, max_length):\n",
        "    return [sentenca[:max_length] for sentenca in texto]\n",
        "\n",
        "def padding_texto(texto, max_length, token_pad):\n",
        "    return pad_sequences(texto, maxlen=max_length, padding='post', truncating='post', value=token_pad)\n",
        "\n",
        "def preparar_batches(X, y, batch_size, max_length, token_pad):\n",
        "    X_pad = padding_texto(X, max_length, token_pad)\n",
        "    num_batches = len(X_pad) // batch_size\n",
        "    X_batches = np.array_split(X_pad[:num_batches*batch_size], num_batches)\n",
        "    y_batches = np.array_split(y[:num_batches*batch_size], num_batches)\n",
        "    return X_batches, y_batches\n",
        "\n",
        "def preparar_vocabulario(texto, tamanho_vocabulario, token_desconhecido):\n",
        "    palavras_frequentes = [palavra for lista_palavras in texto for palavra in lista_palavras]\n",
        "    vocabulario = set(palavras_frequentes)\n",
        "    vocabulario = {palavra: indice+1 for indice, palavra in enumerate(vocabulario)}\n",
        "    vocabulario[token_desconhecido] = 0\n",
        "    return vocabulario\n",
        "\n",
        "def tokenizar_texto(texto, vocabulario, token_desconhecido):\n",
        "    return [[vocabulario.get(palavra, 0) for palavra in sentenca] for sentenca in texto]\n"
      ]
    },
    {
      "cell_type": "code",
      "execution_count": 41,
      "metadata": {},
      "outputs": [
        {
          "data": {
            "text/plain": [
              "<gensim.models.word2vec.Word2Vec at 0x1afcdef3410>"
            ]
          },
          "execution_count": 41,
          "metadata": {},
          "output_type": "execute_result"
        }
      ],
      "source": [
        "model_w2v"
      ]
    },
    {
      "cell_type": "code",
      "execution_count": 42,
      "metadata": {},
      "outputs": [],
      "source": [
        "from tensorflow.keras.models import Sequential\n",
        "from tensorflow.keras.layers import Embedding, LSTM, Bidirectional, GRU, Dense\n",
        "\n",
        "def treinar_modelo(X_treino, y_treino, X_teste, y_teste, tipo_modelo, bidirecional=False):\n",
        "    modelo = Sequential()\n",
        "    modelo.add(Embedding(input_dim=len(vocabulario), output_dim=100, input_length=max_length))\n",
        "    if bidirecional:\n",
        "        modelo.add(Bidirectional(tipo_modelo))\n",
        "    else:\n",
        "        modelo.add(tipo_modelo)\n",
        "    modelo.add(Dense(6, activation='softmax'))\n",
        "    modelo.compile(loss='sparse_categorical_crossentropy', optimizer='adam', metrics=['accuracy'])\n",
        "    modelo.fit(X_treino, y_treino, epochs=10, batch_size=64, validation_data=(X_teste, y_teste), verbose=0)\n",
        "    return modelo\n",
        "\n",
        "resultados = []\n",
        "# Definindo o tamanho máximo da sequência e o token de padding\n",
        "max_length = 100\n",
        "token_pad = 0\n",
        "\n",
        "# Tokenizar os textos\n",
        "vocabulario = preparar_vocabulario(dados_treino['review_text'], 20000, '<UNK>')\n",
        "X_treino = tokenizar_texto(dados_treino['review_text'], vocabulario, '<UNK>')\n",
        "X_teste = tokenizar_texto(dados_teste['review_text'], vocabulario, '<UNK>')\n",
        "\n",
        "y_treino = dados_treino['overall_rating'].values\n",
        "y_teste = dados_teste['overall_rating'].values\n",
        "# Truncar e fazer o padding dos textos\n",
        "X_treino = truncar_texto(X_treino, max_length)\n",
        "X_treino = padding_texto(X_treino, max_length, token_pad)\n",
        "X_teste = truncar_texto(X_teste, max_length)\n",
        "X_teste = padding_texto(X_teste, max_length, token_pad)"
      ]
    },
    {
      "cell_type": "code",
      "execution_count": 43,
      "metadata": {},
      "outputs": [
        {
          "name": "stdout",
          "output_type": "stream",
          "text": [
            "                Método  Acurácia Melhor (S/N)\n",
            "0  LSTM uni-direcional    0.4032            N\n",
            "1   LSTM bi-direcional    0.5000            N\n",
            "2   GRU uni-direcional    0.4612            N\n",
            "3    GRU bi-direcional    0.5072            N\n"
          ]
        }
      ],
      "source": [
        "melhor_acuracia = 0\n",
        "melhor_modelo = None\n",
        "resultados = []\n",
        "\n",
        "for tipo_modelo in ['LSTM', 'GRU']:\n",
        "    for bidirecional in [False, True]:\n",
        "        if tipo_modelo == 'LSTM':\n",
        "            modelo = treinar_modelo(X_treino, y_treino, X_teste, y_teste, LSTM(units=128), bidirecional)\n",
        "        elif tipo_modelo == 'GRU':\n",
        "            modelo = treinar_modelo(X_treino, y_treino, X_teste, y_teste, GRU(units=128), bidirecional)\n",
        "        acuracia = modelo.evaluate(X_teste, y_teste, verbose=0)[1]\n",
        "        melhor = 'S' if acuracia == melhor_acuracia else 'N'\n",
        "        resultados.append({'Método': f'{tipo_modelo}{\" bi-direcional\" if bidirecional else \" uni-direcional\"}',\n",
        "                           'Acurácia': acuracia,\n",
        "                           'Melhor (S/N)': melhor})\n",
        "\n",
        "df_resultados = pd.DataFrame(resultados)\n",
        "print(df_resultados)"
      ]
    },
    {
      "cell_type": "code",
      "execution_count": 44,
      "metadata": {},
      "outputs": [
        {
          "data": {
            "text/html": [
              "<div>\n",
              "<style scoped>\n",
              "    .dataframe tbody tr th:only-of-type {\n",
              "        vertical-align: middle;\n",
              "    }\n",
              "\n",
              "    .dataframe tbody tr th {\n",
              "        vertical-align: top;\n",
              "    }\n",
              "\n",
              "    .dataframe thead th {\n",
              "        text-align: right;\n",
              "    }\n",
              "</style>\n",
              "<table border=\"1\" class=\"dataframe\">\n",
              "  <thead>\n",
              "    <tr style=\"text-align: right;\">\n",
              "      <th></th>\n",
              "      <th>Método</th>\n",
              "      <th>Acurácia</th>\n",
              "      <th>Melhor (S/N)</th>\n",
              "    </tr>\n",
              "  </thead>\n",
              "  <tbody>\n",
              "    <tr>\n",
              "      <th>0</th>\n",
              "      <td>LSTM uni-direcional</td>\n",
              "      <td>0.4032</td>\n",
              "      <td>N</td>\n",
              "    </tr>\n",
              "    <tr>\n",
              "      <th>1</th>\n",
              "      <td>LSTM bi-direcional</td>\n",
              "      <td>0.5000</td>\n",
              "      <td>N</td>\n",
              "    </tr>\n",
              "    <tr>\n",
              "      <th>2</th>\n",
              "      <td>GRU uni-direcional</td>\n",
              "      <td>0.4612</td>\n",
              "      <td>N</td>\n",
              "    </tr>\n",
              "    <tr>\n",
              "      <th>3</th>\n",
              "      <td>GRU bi-direcional</td>\n",
              "      <td>0.5072</td>\n",
              "      <td>N</td>\n",
              "    </tr>\n",
              "  </tbody>\n",
              "</table>\n",
              "</div>"
            ],
            "text/plain": [
              "                Método  Acurácia Melhor (S/N)\n",
              "0  LSTM uni-direcional    0.4032            N\n",
              "1   LSTM bi-direcional    0.5000            N\n",
              "2   GRU uni-direcional    0.4612            N\n",
              "3    GRU bi-direcional    0.5072            N"
            ]
          },
          "execution_count": 44,
          "metadata": {},
          "output_type": "execute_result"
        }
      ],
      "source": [
        "df_resultados"
      ]
    },
    {
      "cell_type": "code",
      "execution_count": 31,
      "metadata": {},
      "outputs": [],
      "source": [
        "df_resultados.loc[df_resultados['Acurácia'] == df_resultados['Acurácia'].max(),'Melhor (S/N)'] = 'S'"
      ]
    },
    {
      "cell_type": "code",
      "execution_count": 33,
      "metadata": {},
      "outputs": [],
      "source": [
        "df_resultados.to_csv('resultados.csv', index=False)"
      ]
    },
    {
      "cell_type": "markdown",
      "metadata": {},
      "source": [
        "# Lab da Semana"
      ]
    },
    {
      "cell_type": "code",
      "execution_count": null,
      "metadata": {
        "id": "T-uIlLRJ2ywF",
        "outputId": "fb569cad-c279-4b91-cec1-7231438ddc0c"
      },
      "outputs": [],
      "source": [
        "b2wCorpus[\"review_text\"]"
      ]
    },
    {
      "cell_type": "markdown",
      "metadata": {
        "id": "UZuwgrFT2ywG"
      },
      "source": [
        "\n",
        "## Pré-processamento\n",
        "# <font color='blue'>Questão 1 </font>\n",
        "Copie suas etapas de préprocessamento da lista 03, ou seja, selecione apenas as colunas relevantes (\"review_text\" e \"recommend_to_a_friend\"), converta a coluna \"review_text\" de uma coluna de `str` para uma coluna de `int` e separe os dados em teste e treino.\n"
      ]
    },
    {
      "cell_type": "code",
      "execution_count": null,
      "metadata": {
        "id": "Qsyt8FuU2ywH"
      },
      "outputs": [],
      "source": [
        "# Seu código aqui"
      ]
    },
    {
      "cell_type": "markdown",
      "metadata": {
        "id": "DZMDIxEV2ywI"
      },
      "source": [
        "## Tokenizando\n",
        "\n",
        "\n"
      ]
    },
    {
      "cell_type": "markdown",
      "metadata": {
        "id": "kiSDsvGk2ywJ"
      },
      "source": [
        "# <font color='blue'>Questão 2 </font>\n",
        "Utilizando a camada [`TextVectorization`](https://www.tensorflow.org/api_docs/python/tf/keras/layers/experimental/preprocessing/TextVectorization) tokenize os inputs.\n",
        "Declare a camada e então chame a função `adapt()` no seu conjunto de treino para adequar o seu vocabulário aos reviews.\n",
        "\n",
        "Note que o uso de padding não é mais necessario."
      ]
    },
    {
      "cell_type": "code",
      "execution_count": null,
      "metadata": {
        "id": "VQmFQQKe2ywK"
      },
      "outputs": [],
      "source": [
        "# Seu código aqui"
      ]
    },
    {
      "cell_type": "markdown",
      "metadata": {
        "id": "zTRN2gF-2ywK"
      },
      "source": [
        "## LSTM&GRU\n",
        "\n",
        "Agora vamos juntar a camada do tokenizador a nossa camada [Embedding](https://www.tensorflow.org/api_docs/python/tf/keras/layers/Embedding) e definir o resto de nosso modelo.\n",
        "\n",
        "#  <font color='blue'>Questão 3 </font>\n",
        "\n",
        "a) Defina, compile, treine e avalie seu modelo, utilize camadas  [LSTM](https://keras.io/api/layers/recurrent_layers/lstm/).\n",
        "Atenção a dimensão do input da camada de embedding, lembre se que < OOV > e < PAD > possuem seus próprios tokens.\n",
        "\n",
        "\n",
        "\n",
        "b) Como foi a performance desta rede em comparação a da lista 3?\n",
        "\n",
        "\n"
      ]
    },
    {
      "cell_type": "markdown",
      "metadata": {
        "id": "Ck3LRPSz2ywL"
      },
      "source": [
        "**<font color='red'> Sua resposta aqui </font>**"
      ]
    },
    {
      "cell_type": "code",
      "execution_count": null,
      "metadata": {
        "id": "QjgZGSZ42ywM"
      },
      "outputs": [],
      "source": [
        "# Seu código aqui"
      ]
    },
    {
      "cell_type": "markdown",
      "metadata": {
        "id": "r69ak91X2ywM"
      },
      "source": [
        "#  <font color='blue'>Questão 4 </font>\n",
        "\n",
        "a) Defina, compile, treine e avalie seu modelo, utilize camadas [GRU](https://keras.io/api/layers/recurrent_layers/gru/).\n",
        "Atenção a dimensão do input da camada de embedding, lembre se que < OOV > e < PAD > possuem seus próprios tokens.\n",
        "\n",
        "\n",
        "\n",
        "b) Como foi a performance desta rede em comparação a da lista 3?\n"
      ]
    },
    {
      "cell_type": "markdown",
      "metadata": {
        "id": "fEKTe33f2ywM"
      },
      "source": [
        "**<font color='red'> Sua resposta aqui </font>**"
      ]
    },
    {
      "cell_type": "code",
      "execution_count": null,
      "metadata": {
        "id": "n0p5u_E12ywN"
      },
      "outputs": [],
      "source": [
        "# Seu código aqui"
      ]
    },
    {
      "cell_type": "markdown",
      "metadata": {
        "id": "JrnJXk4t2ywN"
      },
      "source": [
        "## Redes Bi-direcionais\n",
        "#  <font color='blue'>Questão 5 </font>\n",
        "\n",
        "a) Defina, compile, treine e avalie um novo modelo que utilize contexto em ambas as direções usando a camada [`Bidirectional()`](https://keras.io/api/layers/recurrent_layers/bidirectional/), seja com camadas GRU ou LSTM.\n",
        "\n",
        "\n",
        "b) Como foi sua performance em relação as questões anteriores com contexto unidirecional?"
      ]
    },
    {
      "cell_type": "markdown",
      "metadata": {
        "id": "Q_OPmqPA2ywN"
      },
      "source": [
        "**<font color='red'> Sua resposta aqui </font>**"
      ]
    },
    {
      "cell_type": "code",
      "execution_count": null,
      "metadata": {
        "id": "vRdMJzXi2ywN"
      },
      "outputs": [],
      "source": [
        "# Seu código aqui"
      ]
    }
  ],
  "metadata": {
    "colab": {
      "name": "Copy of 06 - LSTM&GRU.ipynb",
      "provenance": []
    },
    "kernelspec": {
      "display_name": "Python 3",
      "language": "python",
      "name": "python3"
    },
    "language_info": {
      "codemirror_mode": {
        "name": "ipython",
        "version": 3
      },
      "file_extension": ".py",
      "mimetype": "text/x-python",
      "name": "python",
      "nbconvert_exporter": "python",
      "pygments_lexer": "ipython3",
      "version": "3.11.4"
    }
  },
  "nbformat": 4,
  "nbformat_minor": 0
}
